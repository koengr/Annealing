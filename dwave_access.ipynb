{
 "cells": [
  {
   "cell_type": "markdown",
   "id": "ce43ff53",
   "metadata": {},
   "source": [
    "Step 1: Find the available solvers\n",
    "\n",
    "(guide: https://docs.ocean.dwavesys.com/en/latest/overview/sapi.html )\n",
    "\n"
   ]
  },
  {
   "cell_type": "code",
   "execution_count": 1,
   "id": "689797e1",
   "metadata": {},
   "outputs": [],
   "source": [
    "from dwave.cloud import Client"
   ]
  },
  {
   "cell_type": "code",
   "execution_count": 5,
   "id": "56b90981",
   "metadata": {},
   "outputs": [
    {
     "name": "stdout",
     "output_type": "stream",
     "text": [
      "BQMSolver(id='hybrid_binary_quadratic_model_version2')\n",
      "DQMSolver(id='hybrid_discrete_quadratic_model_version1')\n",
      "CQMSolver(id='hybrid_constrained_quadratic_model_version1')\n",
      "StructuredSolver(id='Advantage_system6.1')\n",
      "StructuredSolver(id='Advantage_system4.1')\n",
      "StructuredSolver(id='DW_2000Q_6')\n",
      "StructuredSolver(id='Advantage2_prototype1.1')\n"
     ]
    }
   ],
   "source": [
    "with Client.from_config() as client:\n",
    "    for s in client.get_solvers():\n",
    "        print(s)"
   ]
  },
  {
   "cell_type": "code",
   "execution_count": 6,
   "id": "fc6c6709",
   "metadata": {},
   "outputs": [
    {
     "name": "stdout",
     "output_type": "stream",
     "text": [
      "BQMSolver(id='hybrid_binary_quadratic_model_version2')\n",
      "DQMSolver(id='hybrid_discrete_quadratic_model_version1')\n",
      "CQMSolver(id='hybrid_constrained_quadratic_model_version1')\n"
     ]
    }
   ],
   "source": [
    "with Client.from_config() as client:\n",
    "    for s in (client.get_solvers(hybrid=True)):\n",
    "        print(s)"
   ]
  },
  {
   "cell_type": "code",
   "execution_count": null,
   "id": "1b89ca13",
   "metadata": {},
   "outputs": [],
   "source": []
  }
 ],
 "metadata": {
  "kernelspec": {
   "display_name": "Python 3 (ipykernel)",
   "language": "python",
   "name": "python3"
  },
  "language_info": {
   "codemirror_mode": {
    "name": "ipython",
    "version": 3
   },
   "file_extension": ".py",
   "mimetype": "text/x-python",
   "name": "python",
   "nbconvert_exporter": "python",
   "pygments_lexer": "ipython3",
   "version": "3.10.5"
  }
 },
 "nbformat": 4,
 "nbformat_minor": 5
}
