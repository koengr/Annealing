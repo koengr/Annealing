{
 "cells": [
  {
   "cell_type": "markdown",
   "id": "9a30267a",
   "metadata": {},
   "source": [
    "## Setup\n",
    "\n",
    "### Check connection and find available solvers \n",
    "\n",
    "(guide: https://docs.ocean.dwavesys.com/en/latest/overview/sapi.html )\n",
    "\n"
   ]
  },
  {
   "cell_type": "code",
   "execution_count": 1,
   "id": "600a709b",
   "metadata": {},
   "outputs": [],
   "source": [
    "from dwave.cloud import Client"
   ]
  },
  {
   "cell_type": "code",
   "execution_count": 5,
   "id": "58454811",
   "metadata": {},
   "outputs": [
    {
     "name": "stdout",
     "output_type": "stream",
     "text": [
      "BQMSolver(id='hybrid_binary_quadratic_model_version2')\n",
      "DQMSolver(id='hybrid_discrete_quadratic_model_version1')\n",
      "CQMSolver(id='hybrid_constrained_quadratic_model_version1')\n",
      "StructuredSolver(id='Advantage_system6.1')\n",
      "StructuredSolver(id='Advantage_system4.1')\n",
      "StructuredSolver(id='DW_2000Q_6')\n",
      "StructuredSolver(id='Advantage2_prototype1.1')\n"
     ]
    }
   ],
   "source": [
    "with Client.from_config() as client:\n",
    "    for s in client.get_solvers():\n",
    "        print(s)"
   ]
  },
  {
   "cell_type": "code",
   "execution_count": 6,
   "id": "c6dc7e85",
   "metadata": {},
   "outputs": [
    {
     "name": "stdout",
     "output_type": "stream",
     "text": [
      "BQMSolver(id='hybrid_binary_quadratic_model_version2')\n",
      "DQMSolver(id='hybrid_discrete_quadratic_model_version1')\n",
      "CQMSolver(id='hybrid_constrained_quadratic_model_version1')\n"
     ]
    }
   ],
   "source": [
    "with Client.from_config() as client:\n",
    "    for s in (client.get_solvers(hybrid=True)):\n",
    "        print(s)"
   ]
  },
  {
   "cell_type": "code",
   "execution_count": 10,
   "id": "14f486e2",
   "metadata": {},
   "outputs": [
    {
     "name": "stdout",
     "output_type": "stream",
     "text": [
      "na-west-1\n",
      "eu-central-1\n",
      "North America (na-west-1): https://na-west-1.cloud.dwavesys.com/sapi/v2/\n",
      "Europe (eu-central-1): https://eu-central-1.cloud.dwavesys.com/sapi/v2/\n"
     ]
    }
   ],
   "source": [
    "with Client.from_config() as client:\n",
    "    regions = client.get_regions()\n",
    "    for r in regions:\n",
    "        print(r)\n",
    "    for code,info in regions.items():\n",
    "       print(f\"{info['name']} ({code}): {info['endpoint']}\")\n"
   ]
  },
  {
   "cell_type": "markdown",
   "id": "67a62af5",
   "metadata": {},
   "source": [
    "## A toy problem: Optimize rectangle area + correct settings in a binary circuits"
   ]
  },
  {
   "cell_type": "markdown",
   "id": "c6e16480",
   "metadata": {},
   "source": [
    "### Step 1: formulate the problem"
   ]
  },
  {
   "cell_type": "markdown",
   "id": "c423e3be",
   "metadata": {},
   "source": [
    "Toy problem 1: What is the optimal AREA of a rectangle, given that the circumference is fixed to 8? (The answer should be the 2x2 square with area 4)"
   ]
  },
  {
   "cell_type": "code",
   "execution_count": 23,
   "id": "43c03d08",
   "metadata": {},
   "outputs": [
    {
     "name": "stdout",
     "output_type": "stream",
     "text": [
      "<dimod.constrained.ConstrainedQuadraticModel object at 0x15e7050f0>\n"
     ]
    }
   ],
   "source": [
    "from dimod import ConstrainedQuadraticModel, Integer\n",
    "i = Integer('i', upper_bound=4) # The 'lenght' of the rectangle\n",
    "j = Integer('j', upper_bound=4) # The 'width' of the rectangle  \n",
    "cqm = ConstrainedQuadraticModel()\n",
    "cqm.set_objective(-i*j)  # Objective: maximize the area \n",
    "cqm.add_constraint(2*i+2*j <= 8, \"Max perimeter\") # Constraint: perimiter restricted to 8 units\n",
    "print(cqm)"
   ]
  },
  {
   "cell_type": "markdown",
   "id": "56522b3b",
   "metadata": {},
   "source": [
    "Toy problem 2: what are consistent in- and outputs of common logical gates like AND, OR, NOT, etc? \n",
    "\n",
    "D-Wave automatically translates these to a QUBO. "
   ]
  },
  {
   "cell_type": "code",
   "execution_count": 60,
   "id": "aef257eb",
   "metadata": {},
   "outputs": [
    {
     "name": "stdout",
     "output_type": "stream",
     "text": [
      "BinaryQuadraticModel({'in1': 0.0, 'in2': 0.0, 'out': 3.0}, {('in2', 'in1'): 1.0, ('out', 'in1'): -2.0, ('out', 'in2'): -2.0}, 0.0, 'BINARY')\n"
     ]
    }
   ],
   "source": [
    "from dimod.generators import and_gate\n",
    "bqm = and_gate('in1', 'in2', 'out')\n",
    "print(bqm)"
   ]
  },
  {
   "cell_type": "markdown",
   "id": "c2844496",
   "metadata": {},
   "source": [
    "### Step 2: Send to a solver\n",
    "\n",
    "NB: For the NOT gate, there are four correct results:\n",
    "\n",
    "00; 0\n",
    "\n",
    "01; 0\n",
    "\n",
    "10; 0\n",
    "\n",
    "11; 1\n",
    "\n",
    "We should receive any of these at random. Let's see if we find them with equal probability?"
   ]
  },
  {
   "cell_type": "code",
   "execution_count": 24,
   "id": "2ab99e46",
   "metadata": {},
   "outputs": [
    {
     "name": "stdout",
     "output_type": "stream",
     "text": [
      "  x1 x2 y1 energy num_oc.\n",
      "0  1  0  0    0.0       1\n",
      "['BINARY', 1 rows, 1 samples, 3 variables]\n"
     ]
    }
   ],
   "source": [
    "from dimod.generators import and_gate\n",
    "from dwave.system import LeapHybridSampler\n",
    "bqm = and_gate('x1', 'x2', 'y1')\n",
    "sampler = LeapHybridSampler()    \n",
    "answer = sampler.sample(bqm)   \n",
    "print(answer)    "
   ]
  },
  {
   "cell_type": "code",
   "execution_count": 50,
   "id": "777b1470",
   "metadata": {},
   "outputs": [],
   "source": [
    "answers = []   # Set up a new array in which we store results"
   ]
  },
  {
   "cell_type": "code",
   "execution_count": 51,
   "id": "bd43f0f7",
   "metadata": {},
   "outputs": [],
   "source": [
    "# Run 10 times (NB: this costs quite some time!)\n",
    "for j in range(10):\n",
    "    answers.append(sampler.sample(bqm) )"
   ]
  },
  {
   "cell_type": "code",
   "execution_count": 54,
   "id": "85e921f1",
   "metadata": {},
   "outputs": [
    {
     "data": {
      "text/plain": [
       "{\"{'x1': 1, 'x2': 0, 'y1': 0}\": 4,\n",
       " \"{'x1': 1, 'x2': 1, 'y1': 1}\": 3,\n",
       " \"{'x1': 0, 'x2': 1, 'y1': 0}\": 3}"
      ]
     },
     "execution_count": 54,
     "metadata": {},
     "output_type": "execute_result"
    }
   ],
   "source": [
    "frequency_counter = dict()\n",
    "for ans in answers:\n",
    "    for d in ans.samples():\n",
    "        d = str(d)\n",
    "        if d in frequency_counter:\n",
    "            frequency_counter[d] += 1\n",
    "        else :\n",
    "            frequency_counter[d] = 1\n",
    "\n",
    "frequency_counter"
   ]
  },
  {
   "cell_type": "markdown",
   "id": "9b773373",
   "metadata": {},
   "source": [
    "## Problem inspection"
   ]
  },
  {
   "cell_type": "markdown",
   "id": "9d56462a",
   "metadata": {},
   "source": [
    "### Sampling from Ising Models"
   ]
  },
  {
   "cell_type": "markdown",
   "id": "50cb7d20",
   "metadata": {},
   "source": [
    "Use DWaveSampler to encode an explicit Ising Model.\n",
    "\n",
    "Edges must be compatible with the Chimera graph. For example, edge (0,1) is okay, but edge (0,2) will cause an error. "
   ]
  },
  {
   "cell_type": "code",
   "execution_count": 63,
   "id": "c6020701",
   "metadata": {},
   "outputs": [
    {
     "name": "stdout",
     "output_type": "stream",
     "text": [
      "True\n"
     ]
    },
    {
     "data": {
      "text/plain": [
       "'http://127.0.0.1:18000/?problemId=606580b6-789b-48cc-b81b-e239c74da504'"
      ]
     },
     "execution_count": 63,
     "metadata": {},
     "output_type": "execute_result"
    }
   ],
   "source": [
    "from dwave.system import DWaveSampler\n",
    "import dwave.inspector\n",
    "\n",
    "# Get solver\n",
    "sampler = DWaveSampler(solver=dict(qpu=True))\n",
    "\n",
    "# Here we define a simple Ising model\n",
    "h = {}\n",
    "J = {(0, 4): 1, (0, 5): 1, (1, 4): 1, (1, 5): -1, (2,4): 1}\n",
    "\n",
    "# Double check that all 'edge labels' that we use are compatible with the solver?\n",
    "print( all(edge in sampler.edgelist for edge in J) )\n",
    "\n",
    "# Sample\n",
    "response = sampler.sample_ising(h, J, num_reads=100)\n",
    "\n",
    "# Inspect\n",
    "dwave.inspector.show(response)   "
   ]
  },
  {
   "cell_type": "markdown",
   "id": "c8733d86",
   "metadata": {},
   "source": [
    "### Solving logical problems"
   ]
  },
  {
   "cell_type": "code",
   "execution_count": 78,
   "id": "febc09a8",
   "metadata": {},
   "outputs": [
    {
     "name": "stdout",
     "output_type": "stream",
     "text": [
      "Sample(sample={'x1': 0, 'x2': 1, 'y1': 0}, energy=0.0, num_occurrences=23, chain_break_fraction=0.0)\n",
      "Sample(sample={'x1': 0, 'x2': 0, 'y1': 0}, energy=0.0, num_occurrences=28, chain_break_fraction=0.0)\n",
      "Sample(sample={'x1': 1, 'x2': 0, 'y1': 0}, energy=0.0, num_occurrences=26, chain_break_fraction=0.0)\n",
      "Sample(sample={'x1': 1, 'x2': 1, 'y1': 1}, energy=0.0, num_occurrences=23, chain_break_fraction=0.0)\n"
     ]
    }
   ],
   "source": [
    "from dwave.system import DWaveSampler, EmbeddingComposite\n",
    "\n",
    "# Take our good old AND Gate:\n",
    "bqm = and_gate('x1', 'x2', 'y1')\n",
    "\n",
    "# EmbeddingComposite is supposed to automatically map the problem to the QPU's graph. \n",
    "sampler = EmbeddingComposite(DWaveSampler(solver=dict(qpu=True)))\n",
    "\n",
    "\n",
    "sampleset = sampler.sample(bqm, num_reads=100, chain_strength=0.1)\n",
    "\n",
    "for j in sampleset.data():\n",
    "    print(j)"
   ]
  },
  {
   "cell_type": "code",
   "execution_count": 77,
   "id": "91ec8738",
   "metadata": {
    "scrolled": false
   },
   "outputs": [
    {
     "data": {
      "text/plain": [
       "'http://127.0.0.1:18000/?problemId=713836cb-8fd3-48a7-b136-a4b7c0bd2158'"
      ]
     },
     "execution_count": 77,
     "metadata": {},
     "output_type": "execute_result"
    }
   ],
   "source": [
    "dwave.inspector.show(sampleset)"
   ]
  },
  {
   "cell_type": "markdown",
   "id": "ca014a49",
   "metadata": {},
   "source": [
    "The results are medioce: the vast majority of results gave energy E=1 instead of the optimal E=0. Let's vary parameters to get better solutions. \n",
    "\n",
    "Solutions:\n",
    "\n",
    "chain strength = 0.1 (most samples are wrong)\n",
    "\n",
    "chain_strenght = 0.7 (all samples are correct)\n",
    "\n",
    "*EDIT*: Re-running gives 100% score even on 0.1 chain strength. To be investigated later. "
   ]
  }
 ],
 "metadata": {
  "kernelspec": {
   "display_name": "Python 3 (ipykernel)",
   "language": "python",
   "name": "python3"
  },
  "language_info": {
   "codemirror_mode": {
    "name": "ipython",
    "version": 3
   },
   "file_extension": ".py",
   "mimetype": "text/x-python",
   "name": "python",
   "nbconvert_exporter": "python",
   "pygments_lexer": "ipython3",
   "version": "3.10.5"
  }
 },
 "nbformat": 4,
 "nbformat_minor": 5
}
